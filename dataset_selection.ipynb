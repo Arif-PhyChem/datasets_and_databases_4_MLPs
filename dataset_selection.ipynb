{
 "cells": [
  {
   "cell_type": "markdown",
   "metadata": {},
   "source": [
    "# Tutorial on dataset selection\n",
    "\n",
    "Below we provide instructions on how to use the information of database in `dataset_overview.json`.\n",
    "\n",
    "Take QM9 as an example to show how the information is presented for each dataset in our json file (if the value is not clarified in the paper and needs additional check on the dataset in detail, `\"checking required\"` will be used as the placeholder.): "
   ]
  },
  {
   "cell_type": "code",
   "execution_count": null,
   "metadata": {},
   "outputs": [],
   "source": [
    "{\n",
    "\"name\": # Abbriviation of the name for the dataset \n",
    "    \"QM9\", \n",
    "\n",
    "\"full_name\": # Full name of the dataset\n",
    "    \"QM9\", \n",
    "\n",
    "\"description\": # Simple description about the dataset\n",
    "    \" A collection of molecular structures and properties for 134,000 small organic molecules \",\n",
    "\n",
    "\"methods\": { # Calculation methods and softwares used to construct dataset. \n",
    "             # Currently only methods for geometry optimization and single \n",
    "             # point calculations are considered.\n",
    "    \"geometry_optimization\":{\n",
    "        \"B3LYP/6-31G(2df,p)\": \"Gaussian 09\" # method : software\n",
    "        },\n",
    "    \"energy\":{\n",
    "        \"B3LYP/6-31G(2df,p)\": \"Gaussian 09\",\n",
    "        \"G4MP2\": \"Gaussian 09\"\n",
    "        }\n",
    "    },\n",
    "\n",
    "\"data_size\": { # Number of molecules in the dataset. \n",
    "               # Currently only number of conformations \n",
    "               # are considered. \n",
    "    \"number_of_structures\": 133885\n",
    "    }, \n",
    "\n",
    "\"data_access\": { # The link of repository to store the dataset. \n",
    "    \"Figshare\": \"https://doi.org/10.6084/m9.figshare.978904\"\n",
    "    },\n",
    "\n",
    "\"chemical_elements\": # The chemical elements the dataset covers \n",
    "    [\"H\",\"C\",\"N\",\"O\",\"F\"],\n",
    "\n",
    "\"number_of_heavy_atoms\": [ # The number of non-hydrogen atoms \n",
    "    \"checking required\", # minima\n",
    "    \"checking required\", # mean\n",
    "    9                    # maxima\n",
    "    ],                  \n",
    "\n",
    "\"initial_source\": [ # The original dataset which current dataset build on\n",
    "    \"GDB-17\"\n",
    "    ], \n",
    "\n",
    "\"non-equilibrium structures\": # whether the dataset contain non-equilibrium structures\n",
    "    \"False\",\n",
    "\n",
    "\"charges\": [ # charges of the molecules in the dataset\n",
    "    0\n",
    "    ],\n",
    "\n",
    "\"multiplicities\": [ # multiplicities of the molecules in the dataset\n",
    "    1\n",
    "    ],\n",
    "\n",
    "\"excited_states\": # whether the dataset contain molecules in excited states\n",
    "    \"False\",\n",
    "\n",
    "\"solvent\": [ # the solvents used for calculation\n",
    "    \"gas_phase\"\n",
    "    ],\n",
    "\n",
    "\"temperature\": # the temperature used for thermochemical calculation or dynamics\n",
    "    298.15,\n",
    "\n",
    "\"properties\": [ # atomic and molecular properties stored in the dataset\n",
    "    \"total_energy\",\n",
    "    \"enthalpy\",\n",
    "    \"...\"\n",
    "],\n",
    "\"doi\": \"10.1038/sdata.2014.22\",\n",
    "\"reference\": [ # reference in bibtex\n",
    "    \"@article{ramakrishnan2014quantum,\\n  title={Quantum chemistry structures and properties of 134 kilo molecules},\\n  author={Ramakrishnan, Raghunathan and Dral, Pavlo O and Rupp, Matthias and Von Lilienfeld, O Anatole},\\n  journal={Scientific data},\\n  volume={1},\\n  number={1},\\n  pages={1--7},\\n  year={2014},\\n  publisher={Nature Publishing Group}\\n}\\n\\n\"\n",
    "]\n",
    "},"
   ]
  },
  {
   "cell_type": "markdown",
   "metadata": {},
   "source": [
    "More entries will be added later according to user requests and instances for new datasets can be created easily from the template we created in the `template.json`. \n",
    "\n",
    "## Filter datasets\n",
    "\n",
    "User can write their own scripts to filter the datasets according to the properties presented above. We also provide `filter_dataset` function to help user get started with. 3 possible usages are shown below."
   ]
  },
  {
   "cell_type": "code",
   "execution_count": null,
   "metadata": {},
   "outputs": [],
   "source": [
    "import json\n",
    "\n",
    "with open('dataset_overview.json','r') as d:\n",
    "    datasets = json.load(d)\n",
    "datasets = datasets['dataset_overview'] # all the datasets are stored under 'dataset_overview' as list\n",
    "\n",
    "def lower_list(ll):\n",
    "    ll_updates = []\n",
    "    for l in ll:\n",
    "        if type(l) == str:\n",
    "            ll_updates.append(l.lower())\n",
    "        else:\n",
    "            return ll\n",
    "    return ll_updates\n",
    "\n",
    "def filter_dataset( # only list and str type values are supported\n",
    "    datasets, # the datasets to filter on\n",
    "    entry, # the properties sorted on\n",
    "    value # the corresponding value requested by users\n",
    "    ): \n",
    "    datasets_to_select = []\n",
    "    for dataset in datasets:\n",
    "        if type(dataset[entry]) == list:\n",
    "            if type(value) == list:\n",
    "                if set(lower_list(value)) <= set(lower_list(dataset[entry])):\n",
    "                    datasets_to_select.append(dataset)\n",
    "            elif type(value) == str:\n",
    "                if value.lower() in lower_list(dataset[entry]):\n",
    "                    datasets_to_select.append(dataset)\n",
    "            else:\n",
    "                print('Not supported type for value')\n",
    "        elif type(dataset[entry]) == str:\n",
    "            if dataset[entry].lower() == value.lower():\n",
    "                datasets_to_select.append(dataset)\n",
    "        else:\n",
    "            print('filter function only supports list and str. For other properties user can generate with their own scripts easily')\n",
    "    return datasets_to_select\n"
   ]
  },
  {
   "cell_type": "markdown",
   "metadata": {},
   "source": [
    "#### Case 1: Select datasets with the PubChem as the initial source "
   ]
  },
  {
   "cell_type": "code",
   "execution_count": null,
   "metadata": {},
   "outputs": [],
   "source": [
    "datasets_to_select = filter_dataset(\n",
    "    datasets=datasets,\n",
    "    entry='initial_source',\n",
    "    value='pubchem')\n",
    "\n",
    "# print information\n",
    "for d in datasets_to_select:\n",
    "    print(f\"Name of the dataset: {d['name']}\")\n",
    "    print(f\"Description of the dataset: {d['description']}\")"
   ]
  },
  {
   "cell_type": "markdown",
   "metadata": {},
   "source": [
    "#### Case 2: Select datasets with excited states available"
   ]
  },
  {
   "cell_type": "code",
   "execution_count": null,
   "metadata": {},
   "outputs": [],
   "source": [
    "datasets_to_select = filter_dataset(\n",
    "    datasets=datasets,\n",
    "    entry='excited_states',\n",
    "    value='True')\n",
    "\n",
    "# print information\n",
    "for d in datasets_to_select:\n",
    "    print(f\"Name of the dataset: {d['name']}\")\n",
    "    print(f\"Description of the dataset: {d['description']}\")"
   ]
  },
  {
   "cell_type": "markdown",
   "metadata": {},
   "source": [
    "#### Case 3: Select datasets containing HCNOS\n"
   ]
  },
  {
   "cell_type": "code",
   "execution_count": null,
   "metadata": {},
   "outputs": [],
   "source": [
    "datasets_to_select = filter_dataset(\n",
    "    datasets=datasets,\n",
    "    entry='chemical_elements',\n",
    "    value=['H','C','N','O',])\n",
    "    \n",
    "# print information\n",
    "for d in datasets_to_select:\n",
    "    print(f\"Name of the dataset: {d['name']}\")\n",
    "    print(f\"Description of the dataset: {d['description']}\")"
   ]
  },
  {
   "cell_type": "markdown",
   "metadata": {},
   "source": [
    "## Generate .csv table from the latest .json file"
   ]
  },
  {
   "cell_type": "markdown",
   "metadata": {},
   "source": [
    "For better visualization of the statistics, we provide `json2csv` function to transform the json file into csv format which can be easily parsed with Excel or common table visualization tools. We also provide an examples with table generated from `pandas` which is the library for data analysis in Python."
   ]
  },
  {
   "cell_type": "code",
   "execution_count": null,
   "metadata": {},
   "outputs": [],
   "source": [
    "import json\n",
    "import pandas as pd\n",
    "\n",
    "def get_value_for_entry(entry, datasets):\n",
    "    vals = [dataset[entry] for dataset in datasets]\n",
    "    def dict2str(d):\n",
    "        ss_list = [str(vv) for vv in d.values()]\n",
    "        return ','.join(ss_list)\n",
    "    if type(vals[0]) == str:\n",
    "        return vals \n",
    "    elif type(vals[0]) == list:\n",
    "        return [','.join([str(vv) for vv in val]) for val in vals]\n",
    "    elif type(vals[0]) == dict:\n",
    "        if entry == 'methods':\n",
    "            print('Only fidelity of energy will be presented')\n",
    "            vals = [vv['energy'] for vv in vals]\n",
    "            return [','.join([*d]) for d in vals]\n",
    "\n",
    "        else:\n",
    "            return [dict2str(d) for d in vals]\n",
    "\n",
    "def json2csv(\n",
    "    datasets, # list of datasets in dict\n",
    "    entries, # (list) the properties user would like to show in the table\n",
    "    output_file='dataset_overview.csv' # the name of the output csv file\n",
    "):\n",
    "\n",
    "    entries_updated = ['name','description','doi']\n",
    "    entries_updated += [i for i in entries if i not in entries_updated]\n",
    "    \n",
    "    df = pd.DataFrame(columns=entries_updated)\n",
    "    for entry in entries_updated:\n",
    "        values = get_value_for_entry(entry, datasets)\n",
    "        df[entry] = values\n",
    "\n",
    "    df.to_csv(output_file, index=False)\n",
    "    return df \n"
   ]
  },
  {
   "cell_type": "code",
   "execution_count": null,
   "metadata": {},
   "outputs": [],
   "source": [
    "with open('dataset_overview.json','r') as d:\n",
    "    datasets = json.load(d)\n",
    "datasets = datasets['dataset_overview'] # all the datasets are stored under 'dataset_overview' as list\n",
    "\n",
    "json2csv(\n",
    "    datasets=datasets[:5],\n",
    "    entries=['chemical_elements','initial_source'],\n",
    "    output_file='dataset_overview.csv'\n",
    ")"
   ]
  },
  {
   "cell_type": "markdown",
   "metadata": {},
   "source": [
    "## Combine them together: Generate table for selected datasets"
   ]
  },
  {
   "cell_type": "markdown",
   "metadata": {},
   "source": [
    "Below we provide an example on selecting datasets containing elements F and S and generate table on the required information"
   ]
  },
  {
   "cell_type": "code",
   "execution_count": null,
   "metadata": {},
   "outputs": [],
   "source": [
    "import json\n",
    "import pandas as pd\n",
    "\n",
    "# load the whole datasets\n",
    "with open('dataset_overview.json','r') as d:\n",
    "    datasets = json.load(d)\n",
    "datasets = datasets['dataset_overview'] # all the datasets are stored under 'dataset_overview' as list\n",
    "\n",
    "datasets_to_select = filter_dataset(\n",
    "    datasets=datasets,\n",
    "    entry='chemical_elements',\n",
    "    value=['F', 'S'])\n",
    "\n",
    "# generate table:\n",
    "json2csv(\n",
    "    datasets=datasets_to_select,\n",
    "    entries=['properties'],\n",
    "    output_file='dataset_overview.csv')"
   ]
  },
  {
   "cell_type": "code",
   "execution_count": null,
   "metadata": {},
   "outputs": [],
   "source": []
  }
 ],
 "metadata": {
  "kernelspec": {
   "display_name": "mlatom",
   "language": "python",
   "name": "python3"
  },
  "language_info": {
   "codemirror_mode": {
    "name": "ipython",
    "version": 3
   },
   "file_extension": ".py",
   "mimetype": "text/x-python",
   "name": "python",
   "nbconvert_exporter": "python",
   "pygments_lexer": "ipython3",
   "version": "3.9.17"
  }
 },
 "nbformat": 4,
 "nbformat_minor": 2
}
